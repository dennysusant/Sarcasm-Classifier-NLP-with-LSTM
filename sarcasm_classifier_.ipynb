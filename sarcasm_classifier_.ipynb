{
  "nbformat": 4,
  "nbformat_minor": 0,
  "metadata": {
    "accelerator": "GPU",
    "colab": {
      "name": "sarcasm classifier .ipynb",
      "provenance": [],
      "collapsed_sections": []
    },
    "kernelspec": {
      "name": "python3",
      "display_name": "Python 3"
    },
    "language_info": {
      "name": "python"
    }
  },
  "cells": [
    {
      "cell_type": "markdown",
      "metadata": {
        "id": "view-in-github"
      },
      "source": [
        "<a href=\"https://colab.research.google.com/github/https-deeplearning-ai/tensorflow-1-public/blob/20_sep_2021_fixes/C3/W2/ungraded_labs/C3_W2_Lab_2_sarcasm_classifier.ipynb\" target=\"_parent\"><img src=\"https://colab.research.google.com/assets/colab-badge.svg\" alt=\"Open In Colab\"/></a>"
      ]
    },
    {
      "cell_type": "code",
      "metadata": {
        "id": "XYYDvoskkE61"
      },
      "source": [
        "import json\n",
        "import tensorflow as tf\n",
        "\n",
        "from tensorflow.keras.preprocessing.text import Tokenizer\n",
        "from tensorflow.keras.preprocessing.sequence import pad_sequences"
      ],
      "execution_count": 6,
      "outputs": []
    },
    {
      "cell_type": "code",
      "metadata": {
        "id": "0eJSTTYnkJQd"
      },
      "source": [
        "vocab_size = 1200\n",
        "embedding_dim = 8\n",
        "max_length = 20\n",
        "trunc_type='post'\n",
        "padding_type='post'\n",
        "oov_tok = \"<OOV>\"\n",
        "training_size = 0.8\n"
      ],
      "execution_count": 20,
      "outputs": []
    },
    {
      "cell_type": "code",
      "metadata": {
        "id": "BQVuQrZNkPn9",
        "colab": {
          "base_uri": "https://localhost:8080/"
        },
        "outputId": "e57c7708-6f66-4b0e-f717-121cffe8bfa6"
      },
      "source": [
        "# sarcasm.json\n",
        "!gdown --id 1xRU3xY5-tkiPGvlz5xBJ18_pHWSRzI4v"
      ],
      "execution_count": 8,
      "outputs": [
        {
          "output_type": "stream",
          "name": "stdout",
          "text": [
            "Downloading...\n",
            "From: https://drive.google.com/uc?id=1xRU3xY5-tkiPGvlz5xBJ18_pHWSRzI4v\n",
            "To: /content/sarcasm.json\n",
            "\r  0% 0.00/5.64M [00:00<?, ?B/s]\r100% 5.64M/5.64M [00:00<00:00, 181MB/s]\n"
          ]
        }
      ]
    },
    {
      "cell_type": "code",
      "metadata": {
        "id": "oaLaaqhNkUPd",
        "colab": {
          "base_uri": "https://localhost:8080/"
        },
        "outputId": "442c6ce6-72d2-4855-a48e-8ec1e559ea19"
      },
      "source": [
        "with open(\"./sarcasm.json\", 'r') as f:\n",
        "    datastore = json.load(f)\n",
        "\n",
        "sentences = []\n",
        "labels = []\n",
        "\n",
        "for item in datastore:\n",
        "    sentences.append(item['headline'])\n",
        "    labels.append(item['is_sarcastic'])\n",
        "len(sentences)"
      ],
      "execution_count": 17,
      "outputs": [
        {
          "output_type": "execute_result",
          "data": {
            "text/plain": [
              "26709"
            ]
          },
          "metadata": {},
          "execution_count": 17
        }
      ]
    },
    {
      "cell_type": "code",
      "metadata": {
        "id": "S1sD-7v0kYWk",
        "colab": {
          "base_uri": "https://localhost:8080/"
        },
        "outputId": "fd63fd3b-454e-4aed-d903-4ba7dff0a3b4"
      },
      "source": [
        "training_sentences = sentences[0:int(training_size*len(sentences))]\n",
        "testing_sentences = sentences[int(training_size*len(sentences)):]\n",
        "training_labels = labels[0:int(training_size*len(sentences))]\n",
        "testing_labels = labels[int(training_size*len(sentences)):]\n",
        "len(training_sentences)"
      ],
      "execution_count": 25,
      "outputs": [
        {
          "output_type": "execute_result",
          "data": {
            "text/plain": [
              "21367"
            ]
          },
          "metadata": {},
          "execution_count": 25
        }
      ]
    },
    {
      "cell_type": "code",
      "metadata": {
        "id": "3u8UB0MCkZ5N"
      },
      "source": [
        "tokenizer = Tokenizer(num_words=vocab_size, oov_token=oov_tok)\n",
        "tokenizer.fit_on_texts(training_sentences)\n",
        "\n",
        "word_index = tokenizer.word_index\n",
        "\n",
        "training_sequences = tokenizer.texts_to_sequences(training_sentences)\n",
        "training_padded = pad_sequences(training_sequences, maxlen=max_length, padding=padding_type, truncating=trunc_type)\n",
        "\n",
        "testing_sequences = tokenizer.texts_to_sequences(testing_sentences)\n",
        "testing_padded = pad_sequences(testing_sequences, maxlen=max_length, padding=padding_type, truncating=trunc_type)"
      ],
      "execution_count": 26,
      "outputs": []
    },
    {
      "cell_type": "code",
      "metadata": {
        "id": "GrAlWBKf99Ya"
      },
      "source": [
        "import numpy as np\n",
        "training_padded = np.array(training_padded)\n",
        "training_labels = np.array(training_labels)\n",
        "testing_padded = np.array(testing_padded)\n",
        "testing_labels = np.array(testing_labels)"
      ],
      "execution_count": 27,
      "outputs": []
    },
    {
      "cell_type": "code",
      "metadata": {
        "id": "FufaT4vlkiDE"
      },
      "source": [
        "model = tf.keras.Sequential([\n",
        "    tf.keras.layers.Embedding(vocab_size, embedding_dim, input_length=max_length),\n",
        "    tf.keras.layers.LSTM(64),\n",
        "    tf.keras.layers.Dense(16, activation='relu'),\n",
        "    tf.keras.layers.Dense(1, activation='sigmoid')\n",
        "])\n",
        "model.compile(loss='binary_crossentropy',optimizer='adam',metrics=['accuracy'])"
      ],
      "execution_count": 29,
      "outputs": []
    },
    {
      "cell_type": "code",
      "metadata": {
        "id": "XfDt1hmYkiys",
        "colab": {
          "base_uri": "https://localhost:8080/"
        },
        "outputId": "37354f5d-66a6-4950-a582-71d8938e3a8d"
      },
      "source": [
        "model.summary()\n"
      ],
      "execution_count": 30,
      "outputs": [
        {
          "output_type": "stream",
          "name": "stdout",
          "text": [
            "Model: \"sequential_1\"\n",
            "_________________________________________________________________\n",
            " Layer (type)                Output Shape              Param #   \n",
            "=================================================================\n",
            " embedding_1 (Embedding)     (None, 20, 8)             9600      \n",
            "                                                                 \n",
            " lstm_1 (LSTM)               (None, 64)                18688     \n",
            "                                                                 \n",
            " dense_2 (Dense)             (None, 16)                1040      \n",
            "                                                                 \n",
            " dense_3 (Dense)             (None, 1)                 17        \n",
            "                                                                 \n",
            "=================================================================\n",
            "Total params: 29,345\n",
            "Trainable params: 29,345\n",
            "Non-trainable params: 0\n",
            "_________________________________________________________________\n"
          ]
        }
      ]
    },
    {
      "cell_type": "code",
      "metadata": {
        "id": "2DTKQFf1kkyc",
        "colab": {
          "base_uri": "https://localhost:8080/"
        },
        "outputId": "2f93a328-39b6-44cf-b410-5f689f334da3"
      },
      "source": [
        "num_epochs = 30\n",
        "history = model.fit(training_padded, training_labels, epochs=num_epochs, validation_data=(testing_padded, testing_labels), verbose=2)"
      ],
      "execution_count": 31,
      "outputs": [
        {
          "output_type": "stream",
          "name": "stdout",
          "text": [
            "Epoch 1/30\n",
            "668/668 - 8s - loss: 0.4505 - accuracy: 0.7755 - val_loss: 0.3851 - val_accuracy: 0.8225 - 8s/epoch - 13ms/step\n",
            "Epoch 2/30\n",
            "668/668 - 3s - loss: 0.3636 - accuracy: 0.8367 - val_loss: 0.3855 - val_accuracy: 0.8278 - 3s/epoch - 5ms/step\n",
            "Epoch 3/30\n",
            "668/668 - 4s - loss: 0.3528 - accuracy: 0.8397 - val_loss: 0.3896 - val_accuracy: 0.8280 - 4s/epoch - 5ms/step\n",
            "Epoch 4/30\n",
            "668/668 - 4s - loss: 0.3485 - accuracy: 0.8423 - val_loss: 0.3861 - val_accuracy: 0.8252 - 4s/epoch - 6ms/step\n",
            "Epoch 5/30\n",
            "668/668 - 4s - loss: 0.3442 - accuracy: 0.8451 - val_loss: 0.3889 - val_accuracy: 0.8195 - 4s/epoch - 5ms/step\n",
            "Epoch 6/30\n",
            "668/668 - 3s - loss: 0.3409 - accuracy: 0.8477 - val_loss: 0.3888 - val_accuracy: 0.8278 - 3s/epoch - 5ms/step\n",
            "Epoch 7/30\n",
            "668/668 - 3s - loss: 0.3361 - accuracy: 0.8509 - val_loss: 0.4002 - val_accuracy: 0.8197 - 3s/epoch - 5ms/step\n",
            "Epoch 8/30\n",
            "668/668 - 3s - loss: 0.3297 - accuracy: 0.8504 - val_loss: 0.3768 - val_accuracy: 0.8295 - 3s/epoch - 5ms/step\n",
            "Epoch 9/30\n",
            "668/668 - 3s - loss: 0.3146 - accuracy: 0.8577 - val_loss: 0.3808 - val_accuracy: 0.8341 - 3s/epoch - 5ms/step\n",
            "Epoch 10/30\n",
            "668/668 - 3s - loss: 0.3037 - accuracy: 0.8628 - val_loss: 0.3693 - val_accuracy: 0.8343 - 3s/epoch - 5ms/step\n",
            "Epoch 11/30\n",
            "668/668 - 3s - loss: 0.2914 - accuracy: 0.8696 - val_loss: 0.3851 - val_accuracy: 0.8235 - 3s/epoch - 5ms/step\n",
            "Epoch 12/30\n",
            "668/668 - 3s - loss: 0.2784 - accuracy: 0.8790 - val_loss: 0.3838 - val_accuracy: 0.8313 - 3s/epoch - 4ms/step\n",
            "Epoch 13/30\n",
            "668/668 - 3s - loss: 0.2634 - accuracy: 0.8856 - val_loss: 0.3801 - val_accuracy: 0.8336 - 3s/epoch - 5ms/step\n",
            "Epoch 14/30\n",
            "668/668 - 3s - loss: 0.2507 - accuracy: 0.8909 - val_loss: 0.4020 - val_accuracy: 0.8306 - 3s/epoch - 4ms/step\n",
            "Epoch 15/30\n",
            "668/668 - 3s - loss: 0.2396 - accuracy: 0.8958 - val_loss: 0.4211 - val_accuracy: 0.8321 - 3s/epoch - 5ms/step\n",
            "Epoch 16/30\n",
            "668/668 - 3s - loss: 0.2311 - accuracy: 0.8990 - val_loss: 0.4188 - val_accuracy: 0.8240 - 3s/epoch - 4ms/step\n",
            "Epoch 17/30\n",
            "668/668 - 3s - loss: 0.2253 - accuracy: 0.9035 - val_loss: 0.4470 - val_accuracy: 0.8212 - 3s/epoch - 5ms/step\n",
            "Epoch 18/30\n",
            "668/668 - 3s - loss: 0.2199 - accuracy: 0.9061 - val_loss: 0.4517 - val_accuracy: 0.8231 - 3s/epoch - 5ms/step\n",
            "Epoch 19/30\n",
            "668/668 - 3s - loss: 0.2125 - accuracy: 0.9107 - val_loss: 0.5216 - val_accuracy: 0.8094 - 3s/epoch - 5ms/step\n",
            "Epoch 20/30\n",
            "668/668 - 3s - loss: 0.2085 - accuracy: 0.9120 - val_loss: 0.4858 - val_accuracy: 0.8164 - 3s/epoch - 4ms/step\n",
            "Epoch 21/30\n",
            "668/668 - 3s - loss: 0.2039 - accuracy: 0.9125 - val_loss: 0.4885 - val_accuracy: 0.8149 - 3s/epoch - 5ms/step\n",
            "Epoch 22/30\n",
            "668/668 - 3s - loss: 0.1999 - accuracy: 0.9170 - val_loss: 0.5277 - val_accuracy: 0.8122 - 3s/epoch - 5ms/step\n",
            "Epoch 23/30\n",
            "668/668 - 3s - loss: 0.1930 - accuracy: 0.9182 - val_loss: 0.5140 - val_accuracy: 0.8070 - 3s/epoch - 5ms/step\n",
            "Epoch 24/30\n",
            "668/668 - 3s - loss: 0.1901 - accuracy: 0.9202 - val_loss: 0.5084 - val_accuracy: 0.8158 - 3s/epoch - 5ms/step\n",
            "Epoch 25/30\n",
            "668/668 - 3s - loss: 0.1868 - accuracy: 0.9200 - val_loss: 0.5195 - val_accuracy: 0.8076 - 3s/epoch - 5ms/step\n",
            "Epoch 26/30\n",
            "668/668 - 3s - loss: 0.1825 - accuracy: 0.9229 - val_loss: 0.5559 - val_accuracy: 0.8064 - 3s/epoch - 4ms/step\n",
            "Epoch 27/30\n",
            "668/668 - 3s - loss: 0.1772 - accuracy: 0.9254 - val_loss: 0.5937 - val_accuracy: 0.8115 - 3s/epoch - 4ms/step\n",
            "Epoch 28/30\n",
            "668/668 - 3s - loss: 0.1722 - accuracy: 0.9275 - val_loss: 0.5904 - val_accuracy: 0.7995 - 3s/epoch - 5ms/step\n",
            "Epoch 29/30\n",
            "668/668 - 3s - loss: 0.1724 - accuracy: 0.9307 - val_loss: 0.5781 - val_accuracy: 0.7958 - 3s/epoch - 5ms/step\n",
            "Epoch 30/30\n",
            "668/668 - 3s - loss: 0.1701 - accuracy: 0.9284 - val_loss: 0.5581 - val_accuracy: 0.8040 - 3s/epoch - 5ms/step\n"
          ]
        }
      ]
    },
    {
      "cell_type": "code",
      "metadata": {
        "id": "2HYfBKXjkmU8",
        "colab": {
          "base_uri": "https://localhost:8080/",
          "height": 541
        },
        "outputId": "aa3e7d5c-9782-4ebe-aba7-bc41740d5228"
      },
      "source": [
        "import matplotlib.pyplot as plt\n",
        "\n",
        "\n",
        "def plot_graphs(history, string):\n",
        "  plt.plot(history.history[string])\n",
        "  plt.plot(history.history['val_'+string])\n",
        "  plt.xlabel(\"Epochs\")\n",
        "  plt.ylabel(string)\n",
        "  plt.legend([string, 'val_'+string])\n",
        "  plt.show()\n",
        "  \n",
        "plot_graphs(history, \"accuracy\")\n",
        "plot_graphs(history, \"loss\")"
      ],
      "execution_count": 32,
      "outputs": [
        {
          "output_type": "display_data",
          "data": {
            "image/png": "[encoded data removed]",
            "text/plain": [
              "<Figure size 432x288 with 1 Axes>"
            ]
          },
          "metadata": {
            "needs_background": "light"
          }
        },
        {
          "output_type": "display_data",
          "data": {
            "image/png": "[encoded data removed]",
            "text/plain": [
              "<Figure size 432x288 with 1 Axes>"
            ]
          },
          "metadata": {
            "needs_background": "light"
          }
        }
      ]
    },
    {
      "cell_type": "code",
      "metadata": {
        "id": "xPFObL3nSM2m"
      },
      "source": [
        ""
      ],
      "execution_count": null,
      "outputs": []
    }
  ]
}